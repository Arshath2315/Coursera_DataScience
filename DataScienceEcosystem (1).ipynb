{
 "cells": [
  {
   "cell_type": "markdown",
   "id": "eed3dea9-9635-4341-948e-4f00f1dbe60d",
   "metadata": {},
   "source": [
    "# Data Science Tools and Ecosystem"
   ]
  },
  {
   "cell_type": "markdown",
   "id": "e3bfdb0b-e7ba-42af-9d85-6ea29f09fc50",
   "metadata": {},
   "source": [
    "## Author\n",
    "Arshath Wuvais"
   ]
  },
  {
   "cell_type": "markdown",
   "id": "794f7de9-5fdb-4e6d-86c0-fe3ee7879bb4",
   "metadata": {},
   "source": [
    "In this notebook, Data Science Tools and Ecosystem are summarized."
   ]
  },
  {
   "cell_type": "markdown",
   "id": "9427100a-39e5-4197-adeb-ce8e13d82fcc",
   "metadata": {},
   "source": [
    "**Objectives:**\n",
    "\n",
    "* Listing Popular Data Science Languages\n",
    "* Libraries Used in Data Science\n",
    "* Arithmetic Expressions"
   ]
  },
  {
   "attachments": {},
   "cell_type": "markdown",
   "id": "52279c6a-47c9-4cff-9d01-8bc61b74516f",
   "metadata": {},
   "source": [
    "Some of the popular languages that Data Scientists use are:\n",
    "\n",
    "1. R\n",
    "2. Python\n",
    "3. SQL\n"
   ]
  },
  {
   "cell_type": "markdown",
   "id": "2aa90e95-5e24-4283-b64b-e8080dd6ff7c",
   "metadata": {},
   "source": [
    "Some of the commonly used libraries used by Data Scientists include:\n",
    "\n",
    "1. NumPy\n",
    "2. Pandas\n",
    "3. Scikit-learn"
   ]
  },
  {
   "cell_type": "markdown",
   "id": "343d85be-16eb-42e7-bc98-93d1e41d1e8c",
   "metadata": {},
   "source": [
    "|Data Science Tools|\n",
    "-----------------------\n",
    "Jupyter Notebooks\n",
    "RStudio\n",
    "Apache Zeppelin"
   ]
  },
  {
   "cell_type": "markdown",
   "id": "f81d58f6-811e-4806-9723-612c04504295",
   "metadata": {},
   "source": [
    "### Below are a few examples of evaluating arithmetic expressions in Python"
   ]
  },
  {
   "cell_type": "code",
   "execution_count": 1,
   "id": "2ea71507-a00f-4678-9aac-b744b9f1b4fa",
   "metadata": {},
   "outputs": [
    {
     "data": {
      "text/plain": [
       "17"
      ]
     },
     "execution_count": 1,
     "metadata": {},
     "output_type": "execute_result"
    }
   ],
   "source": [
    "(3*4)+5\n",
    "#This is a simple arithmetic expression to multiply then add integers"
   ]
  },
  {
   "cell_type": "code",
   "execution_count": 4,
   "id": "e7c2301a-9394-4aac-aea5-846941ddee64",
   "metadata": {},
   "outputs": [
    {
     "name": "stdout",
     "output_type": "stream",
     "text": [
      "3.3333333333333335\n"
     ]
    }
   ],
   "source": [
    " x=200 #minutes\n",
    " y=60 #hour\n",
    "#This will convert 200 minutes to hours by dividing by 60\n",
    "time = x/y\n",
    "print (time)"
   ]
  },
  {
   "cell_type": "code",
   "execution_count": null,
   "id": "e2c2712b-8574-480f-918b-a612bde62358",
   "metadata": {},
   "outputs": [],
   "source": []
  }
 ],
 "metadata": {
  "kernelspec": {
   "display_name": "Python 3 (ipykernel)",
   "language": "python",
   "name": "python3"
  },
  "language_info": {
   "codemirror_mode": {
    "name": "ipython",
    "version": 3
   },
   "file_extension": ".py",
   "mimetype": "text/x-python",
   "name": "python",
   "nbconvert_exporter": "python",
   "pygments_lexer": "ipython3",
   "version": "3.11.7"
  }
 },
 "nbformat": 4,
 "nbformat_minor": 5
}
